{
 "cells": [
  {
   "cell_type": "code",
   "execution_count": 1,
   "id": "1b835c70",
   "metadata": {
    "colab": {
     "base_uri": "https://localhost:8080/"
    },
    "id": "1b835c70",
    "outputId": "4c0e7199-99de-4bef-a2fd-28ffe8035d14"
   },
   "outputs": [
    {
     "name": "stdout",
     "output_type": "stream",
     "text": [
      "Enter a prime number: 11\n",
      "Enter a generator which is less than the prime:5\n",
      "Enter the private key (less than prime): 3\n",
      "Enter the private key(less than prime): 3\n",
      "4 4\n",
      "9 9\n",
      "True\n"
     ]
    }
   ],
   "source": [
    "def diffehelman (p,g,a,b):\n",
    "    A=(g**a)%p\n",
    "    B=(g**b)%p\n",
    "    print(A,B)\n",
    "    K1=(B**a)%p\n",
    "    K2=(A**b)%p\n",
    "    print(K1,K2)\n",
    "    if K1==K2:\n",
    "        print(\"True\")\n",
    "    else:\n",
    "        print(\"False\")\n",
    "\n",
    "p=int(input(\"Enter a prime number: \"))\n",
    "g=int(input(\"Enter a generator which is less than the prime:\" ))\n",
    "a=int(input(\"Enter the private key (less than prime): \"))\n",
    "b=int(input(\"Enter the private key(less than prime): \"))\n",
    "diffehelman(p,g,a,b)"
   ]
  },
  {
   "cell_type": "code",
   "execution_count": null,
   "id": "d613bc07",
   "metadata": {
    "id": "d613bc07"
   },
   "outputs": [],
   "source": []
  }
 ],
 "metadata": {
  "colab": {
   "provenance": []
  },
  "kernelspec": {
   "display_name": "Python 3 (ipykernel)",
   "language": "python",
   "name": "python3"
  },
  "language_info": {
   "codemirror_mode": {
    "name": "ipython",
    "version": 3
   },
   "file_extension": ".py",
   "mimetype": "text/x-python",
   "name": "python",
   "nbconvert_exporter": "python",
   "pygments_lexer": "ipython3",
   "version": "3.11.4"
  }
 },
 "nbformat": 4,
 "nbformat_minor": 5
}
