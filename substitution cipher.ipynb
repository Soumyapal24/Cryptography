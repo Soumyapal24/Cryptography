{
 "cells": [
  {
   "cell_type": "code",
   "execution_count": 1,
   "id": "f6e5ab3a",
   "metadata": {},
   "outputs": [
    {
     "name": "stdout",
     "output_type": "stream",
     "text": [
      "Original Name: Soumya\n",
      "Encrypted Name: Wsyqce\n"
     ]
    }
   ],
   "source": [
    "\"\"\" Implement a substitution cipher in Python where your first name is shifted by a value determined from\n",
    "the single-digit sum of your roll number.\n",
    "\"\"\"\n",
    "def rotate_letter(letter, shift):\n",
    "    if letter.islower():\n",
    "        base = ord('a')\n",
    "    elif letter.isupper():\n",
    "        base = ord('A')\n",
    "    else:\n",
    "        return letter\n",
    "    return chr((ord(letter) - base + shift) % 26 + base)\n",
    "\n",
    "def substitution_cipher(name, shift):\n",
    "    encrypted_name = \"\"\n",
    "    for letter in name:\n",
    "        encrypted_name += rotate_letter(letter, shift)\n",
    "    return encrypted_name\n",
    "\n",
    "def get_roll_number_sum(roll_number):\n",
    "    roll_sum = sum(int(digit) for digit in str(roll_number))\n",
    "    while roll_sum >= 10:\n",
    "        roll_sum = sum(int(digit) for digit in str(roll_sum))\n",
    "    return roll_sum\n",
    "\n",
    "your_name = \"Soumya\"\n",
    "roll_number = 231043\n",
    "shift = get_roll_number_sum(roll_number)\n",
    "\n",
    "encrypted_name = substitution_cipher(your_name, shift)\n",
    "print(\"Original Name:\", your_name)\n",
    "print(\"Encrypted Name:\", encrypted_name)"
   ]
  },
  {
   "cell_type": "code",
   "execution_count": null,
   "id": "b223c913",
   "metadata": {},
   "outputs": [],
   "source": []
  }
 ],
 "metadata": {
  "kernelspec": {
   "display_name": "Python 3 (ipykernel)",
   "language": "python",
   "name": "python3"
  },
  "language_info": {
   "codemirror_mode": {
    "name": "ipython",
    "version": 3
   },
   "file_extension": ".py",
   "mimetype": "text/x-python",
   "name": "python",
   "nbconvert_exporter": "python",
   "pygments_lexer": "ipython3",
   "version": "3.11.4"
  }
 },
 "nbformat": 4,
 "nbformat_minor": 5
}
