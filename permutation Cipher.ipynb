{
 "cells": [
  {
   "cell_type": "code",
   "execution_count": 1,
   "id": "757480e9",
   "metadata": {},
   "outputs": [
    {
     "name": "stdout",
     "output_type": "stream",
     "text": [
      "Encrypted Message:  TCgYRpPyaOrh\n",
      "Decrypted Message: CRYPTOgraphy \n"
     ]
    }
   ],
   "source": [
    "# Implement a permutation Cipher in Python to encrypt and decrypt messages.\n",
    "def e_crypt(message, key):\n",
    "   \n",
    "    encrypted_message = [''] * len(key)\n",
    "    \n",
    "    for i, k in enumerate(key):\n",
    "        if k < len(message):\n",
    "            encrypted_message[i] = message[k]\n",
    "        else:\n",
    "            encrypted_message[i] = ' '  \n",
    "    \n",
    "    return ''.join(encrypted_message)\n",
    "\n",
    "def de_crypt(encrypted_message, key):\n",
    "    \n",
    "    decrypted_message = [''] * len(encrypted_message)\n",
    "    \n",
    "    for i, k in enumerate(key):\n",
    "        if k < len(encrypted_message):\n",
    "            decrypted_message[k] = encrypted_message[i]\n",
    "    \n",
    "    return ''.join(decrypted_message)\n",
    "\n",
    "original_message = \"CRYPTOgraphy\"\n",
    "permutation_key = [12, 4, 0, 6, 2, 1, 9, 3, 11, 8, 5, 7, 10]\n",
    "\n",
    "encrypted = e_crypt(original_message, permutation_key)\n",
    "print(f\"Encrypted Message: {encrypted}\")\n",
    "\n",
    "decrypted = de_crypt(encrypted, permutation_key)\n",
    "print(f\"Decrypted Message: {decrypted}\")"
   ]
  },
  {
   "cell_type": "code",
   "execution_count": null,
   "id": "444aee13",
   "metadata": {},
   "outputs": [],
   "source": []
  }
 ],
 "metadata": {
  "kernelspec": {
   "display_name": "Python 3 (ipykernel)",
   "language": "python",
   "name": "python3"
  },
  "language_info": {
   "codemirror_mode": {
    "name": "ipython",
    "version": 3
   },
   "file_extension": ".py",
   "mimetype": "text/x-python",
   "name": "python",
   "nbconvert_exporter": "python",
   "pygments_lexer": "ipython3",
   "version": "3.11.4"
  }
 },
 "nbformat": 4,
 "nbformat_minor": 5
}
