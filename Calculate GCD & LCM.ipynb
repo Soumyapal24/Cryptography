{
 "cells": [
  {
   "cell_type": "code",
   "execution_count": 1,
   "id": "6319eb4e",
   "metadata": {},
   "outputs": [
    {
     "name": "stdout",
     "output_type": "stream",
     "text": [
      "the first number:12\n",
      "the second number:4\n"
     ]
    },
    {
     "data": {
      "text/plain": [
       "4"
      ]
     },
     "execution_count": 1,
     "metadata": {},
     "output_type": "execute_result"
    }
   ],
   "source": [
    "#implement Eucledian Algorithm to find GCD\n",
    "def euclideanGCD(a,b):\n",
    "     \n",
    "    if a < b :\n",
    "        temp = a\n",
    "        a = b\n",
    "        b = temp\n",
    "    r = a % b\n",
    "    \n",
    "    while True:\n",
    "        \n",
    "        if r == 0:\n",
    "            return b\n",
    "            break\n",
    "        \n",
    "        else:\n",
    "            temp = r\n",
    "            r = b % r\n",
    "            b = temp\n",
    "            \n",
    "            \n",
    "a=int(input(\"the first number:\"))\n",
    "b=int(input(\"the second number:\"))\n",
    "euclideanGCD(a,b)\n",
    "\n",
    "\n"
   ]
  },
  {
   "cell_type": "code",
   "execution_count": 2,
   "id": "3970de95",
   "metadata": {},
   "outputs": [
    {
     "name": "stdout",
     "output_type": "stream",
     "text": [
      "the first number:12\n",
      "the second number:4\n",
      "the LCM is:  12\n"
     ]
    }
   ],
   "source": [
    "# In[12]:\n",
    "\n",
    "\n",
    "#python function of find LCM of two numbers\n",
    "def LCM(a,b):\n",
    "    Res=(a*b)//euclideanGCD(a,b)\n",
    "    print(\"the LCM is: \",Res)\n",
    "    \n",
    "\n",
    "a=int(input(\"the first number:\"))\n",
    "b=int(input(\"the second number:\"))\n",
    "LCM(a,b)\n"
   ]
  }
 ],
 "metadata": {
  "kernelspec": {
   "display_name": "Python 3 (ipykernel)",
   "language": "python",
   "name": "python3"
  },
  "language_info": {
   "codemirror_mode": {
    "name": "ipython",
    "version": 3
   },
   "file_extension": ".py",
   "mimetype": "text/x-python",
   "name": "python",
   "nbconvert_exporter": "python",
   "pygments_lexer": "ipython3",
   "version": "3.11.4"
  }
 },
 "nbformat": 4,
 "nbformat_minor": 5
}
