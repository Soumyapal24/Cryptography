{
 "cells": [
  {
   "cell_type": "code",
   "execution_count": 1,
   "id": "468570b4",
   "metadata": {},
   "outputs": [
    {
     "name": "stdout",
     "output_type": "stream",
     "text": [
      "Encrypted Message: S JYZC GPITRYKPKTFI\n",
      "Decrypted Message: I LOVE CRYPTOGRAPHY\n"
     ]
    }
   ],
   "source": [
    "# Implement the Vernam-Vigenère Cipher in Python to encrypt and decrypt messages.\n",
    "def generate_key(message, key):\n",
    "   \n",
    "    key = list(key)\n",
    "    if len(message) == len(key):\n",
    "        return key\n",
    "    else:\n",
    "        for i in range(len(message) - len(key)):\n",
    "            key.append(key[i % len(key)])\n",
    "    return \"\".join(key)\n",
    "\n",
    "def encrypt(message, key):\n",
    "    \n",
    "    key = generate_key(message, key)\n",
    "    encrypted_message = []\n",
    "    \n",
    "    for i in range(len(message)):\n",
    "        if message[i].isalpha(): \n",
    "            num = (ord(message[i].upper()) + ord(key[i].upper())) % 26\n",
    "            encrypted_message.append(chr(num + 65))\n",
    "        else:\n",
    "            encrypted_message.append(message[i])\n",
    "    \n",
    "    return \"\".join(encrypted_message)\n",
    "\n",
    "def decrypt(encrypted_message, key):\n",
    "    \n",
    "    key = generate_key(encrypted_message, key)\n",
    "    decrypted_message = []\n",
    "    \n",
    "    for i in range(len(encrypted_message)):\n",
    "        if encrypted_message[i].isalpha():\n",
    "            num = (ord(encrypted_message[i].upper()) - ord(key[i].upper()) + 26) % 26\n",
    "            decrypted_message.append(chr(num + 65))\n",
    "        else:\n",
    "            decrypted_message.append(encrypted_message[i])\n",
    "    \n",
    "    return \"\".join(decrypted_message)\n",
    "\n",
    "message = \"I lOVE CRYPTOGRAPHY\"\n",
    "key = \"KEY\"\n",
    "\n",
    "\n",
    "encrypted = encrypt(message, key)\n",
    "print(f\"Encrypted Message: {encrypted}\")\n",
    "\n",
    "\n",
    "decrypted = decrypt(encrypted, key)\n",
    "print(f\"Decrypted Message: {decrypted}\")"
   ]
  },
  {
   "cell_type": "code",
   "execution_count": null,
   "id": "8703ac2b",
   "metadata": {},
   "outputs": [],
   "source": []
  }
 ],
 "metadata": {
  "kernelspec": {
   "display_name": "Python 3 (ipykernel)",
   "language": "python",
   "name": "python3"
  },
  "language_info": {
   "codemirror_mode": {
    "name": "ipython",
    "version": 3
   },
   "file_extension": ".py",
   "mimetype": "text/x-python",
   "name": "python",
   "nbconvert_exporter": "python",
   "pygments_lexer": "ipython3",
   "version": "3.11.4"
  }
 },
 "nbformat": 4,
 "nbformat_minor": 5
}
