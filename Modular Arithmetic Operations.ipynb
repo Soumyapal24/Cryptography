{
 "cells": [
  {
   "cell_type": "code",
   "execution_count": 1,
   "id": "6094fc4c",
   "metadata": {},
   "outputs": [
    {
     "name": "stdout",
     "output_type": "stream",
     "text": [
      "1.Modular Addition\n",
      "2.Modular Substraction\n",
      "3.Modular Multiplication\n",
      "4.Modular Exponantiation\n",
      " 4\n",
      "Enter the first Number:6\n",
      "Enter the second Number:7\n",
      "the mod of:5\n",
      "result: 1\n"
     ]
    }
   ],
   "source": [
    "#1. Modular Arithmetic Operations:\n",
    "def modular_arithmetic(x,y,m):\n",
    "    if choose==\"1\":\n",
    "        return (x+y)%m\n",
    "    if choose==\"2\":\n",
    "        return (x-y)%m\n",
    "    if choose==\"3\":\n",
    "        return (x*y)%m\n",
    "    if choose==\"4\":\n",
    "        return (x**y)%m\n",
    "    \n",
    "print(\"1.Modular Addition\\n2.Modular Substraction\\n3.Modular Multiplication\\n4.Modular Exponantiation\")\n",
    "choose=input(\" \")\n",
    "x=int(input(\"Enter the first Number:\"))\n",
    "y=int(input(\"Enter the second Number:\"))\n",
    "m=int(input(\"the mod of:\"))\n",
    "print(\"result:\",modular_arithmetic(x,y,m))"
   ]
  }
 ],
 "metadata": {
  "kernelspec": {
   "display_name": "Python 3 (ipykernel)",
   "language": "python",
   "name": "python3"
  },
  "language_info": {
   "codemirror_mode": {
    "name": "ipython",
    "version": 3
   },
   "file_extension": ".py",
   "mimetype": "text/x-python",
   "name": "python",
   "nbconvert_exporter": "python",
   "pygments_lexer": "ipython3",
   "version": "3.11.4"
  }
 },
 "nbformat": 4,
 "nbformat_minor": 5
}
