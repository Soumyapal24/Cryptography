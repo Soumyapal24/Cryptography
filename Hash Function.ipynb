{
 "cells": [
  {
   "cell_type": "code",
   "execution_count": 1,
   "id": "963747d6",
   "metadata": {},
   "outputs": [],
   "source": [
    "def text_to_binary(text):\n",
    "    binary_string = \"\"\n",
    "    for char in text:\n",
    "        binary_string += format(ord(char), '08b')\n",
    "    return binary_string"
   ]
  },
  {
   "cell_type": "code",
   "execution_count": 2,
   "id": "169b6557",
   "metadata": {},
   "outputs": [],
   "source": [
    "def binary_to_4bit(binary_string): \n",
    "    segments = []\n",
    "    for i in range(0, len(binary_string), 4):\n",
    "        segments.append(binary_string[i:i+4])\n",
    "    \n",
    "    return segments"
   ]
  },
  {
   "cell_type": "code",
   "execution_count": 3,
   "id": "b0a9068c",
   "metadata": {},
   "outputs": [],
   "source": [
    "def hash1(segments):\n",
    "    xor_result = '0000'\n",
    "    for segment in segments:\n",
    "        temp = ''\n",
    "        for bit1, bit2 in zip(xor_result, segment):\n",
    "            if bit1 != bit2:\n",
    "                temp += '1'  \n",
    "            else:\n",
    "                temp += '0'\n",
    "        xor_result = temp\n",
    "    return xor_result"
   ]
  },
  {
   "cell_type": "code",
   "execution_count": 4,
   "id": "05108582",
   "metadata": {},
   "outputs": [],
   "source": [
    "def hash2(segments):\n",
    "    sum = 0\n",
    "    for segment in segments:\n",
    "        sum += int(segment, 2)\n",
    "    \n",
    "    new_sum = sum % 16\n",
    "    result = format(new_sum, '04b')\n",
    "    return result"
   ]
  },
  {
   "cell_type": "code",
   "execution_count": 5,
   "id": "7cb43ddb",
   "metadata": {},
   "outputs": [
    {
     "name": "stdout",
     "output_type": "stream",
     "text": [
      "Enter your text: soumya\n",
      "Binary value:  011100110110111101110101011011010111100101100001\n",
      "Segments:  ['0111', '0011', '0110', '1111', '0111', '0101', '0110', '1101', '0111', '1001', '0110', '0001']\n",
      "Hashing using 1st hash fn\n",
      "Hash Value:  1101\n",
      "Hashing using 2nd hash fn\n",
      "Hash Value:  0101\n"
     ]
    }
   ],
   "source": [
    "text = input(\"Enter your text: \")\n",
    "binary = text_to_binary(text)\n",
    "print(\"Binary value: \",binary)\n",
    "bit_segments = binary_to_4bit(binary)\n",
    "print(\"Segments: \", bit_segments)\n",
    "hash_value1 = hash1(bit_segments) \n",
    "print(\"Hashing using 1st hash fn\")\n",
    "print(\"Hash Value: \",hash_value1)\n",
    "hash_value2 = hash2(bit_segments) \n",
    "print(\"Hashing using 2nd hash fn\")\n",
    "print(\"Hash Value: \",hash_value2)"
   ]
  }
 ],
 "metadata": {
  "kernelspec": {
   "display_name": "Python 3 (ipykernel)",
   "language": "python",
   "name": "python3"
  },
  "language_info": {
   "codemirror_mode": {
    "name": "ipython",
    "version": 3
   },
   "file_extension": ".py",
   "mimetype": "text/x-python",
   "name": "python",
   "nbconvert_exporter": "python",
   "pygments_lexer": "ipython3",
   "version": "3.11.4"
  }
 },
 "nbformat": 4,
 "nbformat_minor": 5
}
