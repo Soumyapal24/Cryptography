{
 "cells": [
  {
   "cell_type": "code",
   "execution_count": 1,
   "id": "98619e25",
   "metadata": {},
   "outputs": [
    {
     "name": "stdout",
     "output_type": "stream",
     "text": [
      "enter a number: 10\n",
      "Number of modular inverses for 10 (mod 7): 6\n"
     ]
    }
   ],
   "source": [
    "#2. Modular Multiplicative Inverse Using Euler’s Totient Function:\n",
    "def Find_gcd(a, b):\n",
    "    while b:\n",
    "        a, b = b, a % b\n",
    "    return a\n",
    "\n",
    "def Calculate_phi(n):\n",
    "    result = n\n",
    "    for i in range(2, int(n**0.5) + 1):\n",
    "        if n % i == 0:\n",
    "            while n % i == 0:\n",
    "                n //= i\n",
    "            result -= result // i\n",
    "    if n > 1:\n",
    "        result -= result // n\n",
    "    return result\n",
    "\n",
    "def Mod_inverse_count(a, m):\n",
    "    if Find_gcd(a, m) != 1:\n",
    "        return 0  \n",
    "    return Calculate_phi(m)  \n",
    "\n",
    "number = int(input(\"enter a number: \"))\n",
    "mod_inverse_count = Mod_inverse_count(number, 7)\n",
    "print(f\"Number of modular inverses for {number} (mod 7): {mod_inverse_count}\")"
   ]
  },
  {
   "cell_type": "code",
   "execution_count": null,
   "id": "466622ca",
   "metadata": {},
   "outputs": [],
   "source": []
  }
 ],
 "metadata": {
  "kernelspec": {
   "display_name": "Python 3 (ipykernel)",
   "language": "python",
   "name": "python3"
  },
  "language_info": {
   "codemirror_mode": {
    "name": "ipython",
    "version": 3
   },
   "file_extension": ".py",
   "mimetype": "text/x-python",
   "name": "python",
   "nbconvert_exporter": "python",
   "pygments_lexer": "ipython3",
   "version": "3.11.4"
  }
 },
 "nbformat": 4,
 "nbformat_minor": 5
}
