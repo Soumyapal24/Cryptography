{
 "cells": [
  {
   "cell_type": "code",
   "execution_count": 1,
   "id": "eab82194",
   "metadata": {},
   "outputs": [
    {
     "name": "stdout",
     "output_type": "stream",
     "text": [
      "Encrypted: Fubswrjudskb\n",
      "Decrypted: Cryptography\n"
     ]
    }
   ],
   "source": [
    "\n",
    "\"\"\"Implement a Python program to perform encryption and decryption using the Caesar cipher.\"\"\"\n",
    "\n",
    "def caesar_cipher(text, shift):\n",
    "    result = \"\"\n",
    "    for char in text:\n",
    "        if char.isalpha():\n",
    "            base = ord('A') if char.isupper() else ord('a')\n",
    "            shifted_char = chr((ord(char) - base + shift) % 26 + base)\n",
    "            result += shifted_char\n",
    "        else:\n",
    "            result += char\n",
    "    return result\n",
    "\n",
    "plaintext = \"Cryptography\"\n",
    "shift_value = 3\n",
    "\n",
    "ciphertext = caesar_cipher(plaintext, shift_value)\n",
    "print(f\"Encrypted: {ciphertext}\")\n",
    "\n",
    "decrypted_text = caesar_cipher(ciphertext, -shift_value)\n",
    "print(f\"Decrypted: {decrypted_text}\")\n",
    "\n"
   ]
  },
  {
   "cell_type": "code",
   "execution_count": null,
   "id": "1d7a3693",
   "metadata": {},
   "outputs": [],
   "source": []
  }
 ],
 "metadata": {
  "kernelspec": {
   "display_name": "Python 3 (ipykernel)",
   "language": "python",
   "name": "python3"
  },
  "language_info": {
   "codemirror_mode": {
    "name": "ipython",
    "version": 3
   },
   "file_extension": ".py",
   "mimetype": "text/x-python",
   "name": "python",
   "nbconvert_exporter": "python",
   "pygments_lexer": "ipython3",
   "version": "3.11.4"
  }
 },
 "nbformat": 4,
 "nbformat_minor": 5
}
