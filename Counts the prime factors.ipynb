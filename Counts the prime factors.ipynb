{
 "cells": [
  {
   "cell_type": "code",
   "execution_count": 3,
   "id": "f37a3551",
   "metadata": {},
   "outputs": [
    {
     "name": "stdout",
     "output_type": "stream",
     "text": [
      "Enter a number:97\n",
      "Prime factors of 97: {97: 1}\n"
     ]
    }
   ],
   "source": [
    "#python functions that counts the number of prime factors of a given integer\n",
    "def count_prime_factors(n):\n",
    "   \n",
    "    prime_factors = {}\n",
    "    divisor = 2\n",
    "\n",
    "    while n > 1:\n",
    "        while n % divisor == 0:\n",
    "            prime_factors[divisor] = prime_factors.get(divisor, 0) + 1\n",
    "            n //= divisor\n",
    "        divisor += 1\n",
    "\n",
    "    return prime_factors\n",
    "\n",
    "num = int(input(\"Enter a number:\"))\n",
    "prime_factors_dict = count_prime_factors(num)\n",
    "print(f\"Prime factors of {num}: {prime_factors_dict}\")\n"
   ]
  }
 ],
 "metadata": {
  "kernelspec": {
   "display_name": "Python 3 (ipykernel)",
   "language": "python",
   "name": "python3"
  },
  "language_info": {
   "codemirror_mode": {
    "name": "ipython",
    "version": 3
   },
   "file_extension": ".py",
   "mimetype": "text/x-python",
   "name": "python",
   "nbconvert_exporter": "python",
   "pygments_lexer": "ipython3",
   "version": "3.11.4"
  }
 },
 "nbformat": 4,
 "nbformat_minor": 5
}
