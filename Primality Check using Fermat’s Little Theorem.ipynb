{
 "cells": [
  {
   "cell_type": "code",
   "execution_count": 1,
   "id": "1737bf1e",
   "metadata": {},
   "outputs": [
    {
     "name": "stdout",
     "output_type": "stream",
     "text": [
      "Enter a Number: 97\n",
      "Is 97 a prime number? True\n"
     ]
    }
   ],
   "source": [
    "#3. Primality Check using Fermat’s Little Theorem:\n",
    "import random\n",
    "\n",
    "def gcd(a, b):\n",
    "    while b:\n",
    "        a, b = b, a % b\n",
    "    return a\n",
    "\n",
    "def is_prime_fermat(n, k=5):\n",
    "    if n <= 2 or n % 2 == 0:\n",
    "        return False if n != 2 else True\n",
    "\n",
    "    for i in range(k):\n",
    "        a = random.randint(2, n - 2)\n",
    "        if pow(a, n - 1, n) != 1:\n",
    "            return False\n",
    "\n",
    "    return True\n",
    "\n",
    "# Example usage\n",
    "number = int(input(\"Enter a Number: \"))\n",
    "print(f\"Is {number} a prime number? {is_prime_fermat(number)}\")"
   ]
  },
  {
   "cell_type": "code",
   "execution_count": null,
   "id": "d1672ace",
   "metadata": {},
   "outputs": [],
   "source": []
  }
 ],
 "metadata": {
  "kernelspec": {
   "display_name": "Python 3 (ipykernel)",
   "language": "python",
   "name": "python3"
  },
  "language_info": {
   "codemirror_mode": {
    "name": "ipython",
    "version": 3
   },
   "file_extension": ".py",
   "mimetype": "text/x-python",
   "name": "python",
   "nbconvert_exporter": "python",
   "pygments_lexer": "ipython3",
   "version": "3.11.4"
  }
 },
 "nbformat": 4,
 "nbformat_minor": 5
}
