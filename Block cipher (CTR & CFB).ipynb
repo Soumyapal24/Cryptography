{
 "cells": [
  {
   "cell_type": "code",
   "execution_count": 1,
   "id": "e08c1519",
   "metadata": {},
   "outputs": [
    {
     "name": "stdout",
     "output_type": "stream",
     "text": [
      "Collecting pyDes\n",
      "  Downloading pyDes-2.0.1.tar.gz (9.9 kB)\n",
      "  Preparing metadata (setup.py): started\n",
      "  Preparing metadata (setup.py): finished with status 'done'\n",
      "Building wheels for collected packages: pyDes\n",
      "  Building wheel for pyDes (setup.py): started\n",
      "  Building wheel for pyDes (setup.py): finished with status 'done'\n",
      "  Created wheel for pyDes: filename=pyDes-2.0.1-py2.py3-none-any.whl size=9569 sha256=e10b24cd5bfaad201f816f853963ecdb99b5a90d9570e49054eb84a926c44d97\n",
      "  Stored in directory: c:\\users\\soumy\\appdata\\local\\pip\\cache\\wheels\\51\\ef\\ee\\861ded30ba9a05dd759dd63c1105f31c68c5af42b4cd54228a\n",
      "Successfully built pyDes\n",
      "Installing collected packages: pyDes\n",
      "Successfully installed pyDes-2.0.1\n",
      " Counter Mode Encrypted: 0c95a5c103e632ef1dcba8f9644d5b70fce656312b44a9eb516d93ef0c13d3002df1e739\n",
      "Decrypted: Hello, cryptography!\n"
     ]
    }
   ],
   "source": [
    "!pip install pyDes\n",
    "from cryptography.hazmat.backends import default_backend\n",
    "from cryptography.hazmat.primitives.ciphers import Cipher, algorithms, modes\n",
    "from cryptography.hazmat.primitives import padding\n",
    "import os\n",
    "import pyDes\n",
    "\n",
    "def ctr_encrypt(plaintext, key):\n",
    "    iv = os.urandom(16)\n",
    "    cipher = Cipher(algorithms.AES(key), modes.CTR(iv), backend=default_backend())\n",
    "    encryptor = cipher.encryptor()\n",
    "    ciphertext = encryptor.update(plaintext) + encryptor.finalize()\n",
    "    return iv + ciphertext\n",
    "\n",
    "def ctr_decrypt(ciphertext, key):\n",
    "    iv = ciphertext[:16]\n",
    "    ciphertext = ciphertext[16:]\n",
    "    cipher = Cipher(algorithms.AES(key), modes.CTR(iv), backend=default_backend())\n",
    "    decryptor = cipher.decryptor()\n",
    "    plaintext = decryptor.update(ciphertext) + decryptor.finalize()\n",
    "    return plaintext\n",
    "\n",
    "key = b'thisisa16bytekey'\n",
    "plaintext = b'Hello, cryptography!'\n",
    "ciphertext = ctr_encrypt(plaintext, key)\n",
    "print(\" Counter Mode Encrypted:\", (ciphertext).hex())\n",
    "decrypted_text = ctr_decrypt(ciphertext, key)\n",
    "print(\"Decrypted:\", decrypted_text.decode('utf-8'))"
   ]
  },
  {
   "cell_type": "code",
   "execution_count": 2,
   "id": "5723df84",
   "metadata": {},
   "outputs": [
    {
     "name": "stdout",
     "output_type": "stream",
     "text": [
      "Cipher Feedback Mode Encrypted: 52d00750971dcd8dfd993154e2180b2d63bdcd7c02e5ccc95f3c9443b2085e356a40dac3\n",
      "Decrypted: Hello, cryptography!\n"
     ]
    }
   ],
   "source": [
    "def cfb_encrypt(plaintext, key):\n",
    "    iv = os.urandom(16)\n",
    "    cipher = Cipher(algorithms.AES(key), modes.CFB(iv), backend=default_backend())\n",
    "    encryptor = cipher.encryptor()\n",
    "    ciphertext = encryptor.update(plaintext) + encryptor.finalize()\n",
    "    return iv + ciphertext\n",
    "\n",
    "def cfb_decrypt(ciphertext, key):\n",
    "    iv = ciphertext[:16]\n",
    "    ciphertext = ciphertext[16:]\n",
    "    cipher = Cipher(algorithms.AES(key), modes.CFB(iv), backend=default_backend())\n",
    "    decryptor = cipher.decryptor()\n",
    "    plaintext = decryptor.update(ciphertext) + decryptor.finalize()\n",
    "    return plaintext\n",
    "\n",
    "\n",
    "key = b'thisisa16bytekey'\n",
    "plaintext = b'Hello, cryptography!'\n",
    "ciphertext = ctr_encrypt(plaintext, key)\n",
    "print(\"Cipher Feedback Mode Encrypted:\", (ciphertext).hex())\n",
    "decrypted_text = ctr_decrypt(ciphertext, key)\n",
    "print(\"Decrypted:\", decrypted_text.decode('utf-8'))\n"
   ]
  }
 ],
 "metadata": {
  "kernelspec": {
   "display_name": "Python 3 (ipykernel)",
   "language": "python",
   "name": "python3"
  },
  "language_info": {
   "codemirror_mode": {
    "name": "ipython",
    "version": 3
   },
   "file_extension": ".py",
   "mimetype": "text/x-python",
   "name": "python",
   "nbconvert_exporter": "python",
   "pygments_lexer": "ipython3",
   "version": "3.11.4"
  }
 },
 "nbformat": 4,
 "nbformat_minor": 5
}
