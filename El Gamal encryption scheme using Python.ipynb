{
 "cells": [
  {
   "cell_type": "code",
   "execution_count": 3,
   "id": "f038dc80",
   "metadata": {},
   "outputs": [
    {
     "name": "stdout",
     "output_type": "stream",
     "text": [
      "Enter a prime number for p: 5\n",
      "Generator:  3\n",
      "Enter private key: 5\n",
      "Enter the message: 5678\n",
      "Encryption: \n",
      "Cipher: ( 2 , 1 )\n"
     ]
    }
   ],
   "source": [
    "import sympy\n",
    "from sympy import gcd\n",
    "\n",
    "def find_generators(prime):\n",
    "    primitive_root = sympy.ntheory.primitive_root(prime)\n",
    "    \n",
    "    phi = prime - 1\n",
    "    coprimes = []\n",
    "    \n",
    "    for k in range(1, phi):\n",
    "        if gcd(k, phi) == 1:\n",
    "            coprimes.append(k)\n",
    "    \n",
    "    generators = []\n",
    "    for k in coprimes:\n",
    "        generators.append(pow(primitive_root, k, prime))\n",
    "    return sorted(generators)\n",
    "\n",
    "p = int(input(\"Enter a prime number for p: \"))\n",
    "if sympy.isprime(p):\n",
    "    a = find_generators(p)\n",
    "else:\n",
    "    print(\"Enter a valid prime number!\")\n",
    "\n",
    "g = a[-1]\n",
    "print(\"Generator: \",g)\n",
    "x = int(input(\"Enter private key: \"))\n",
    "m = int(input(\"Enter the message: \"))\n",
    "\n",
    "y = (g**x) % p\n",
    "print(\"Encryption: \")\n",
    "\n",
    "k = 3\n",
    "\n",
    "a = (g**k) % p\n",
    "c = (m*(y**k)) % p\n",
    "\n",
    "print(\"Cipher: (\",a,\",\",c,\")\")"
   ]
  }
 ],
 "metadata": {
  "kernelspec": {
   "display_name": "Python 3 (ipykernel)",
   "language": "python",
   "name": "python3"
  },
  "language_info": {
   "codemirror_mode": {
    "name": "ipython",
    "version": 3
   },
   "file_extension": ".py",
   "mimetype": "text/x-python",
   "name": "python",
   "nbconvert_exporter": "python",
   "pygments_lexer": "ipython3",
   "version": "3.11.4"
  }
 },
 "nbformat": 4,
 "nbformat_minor": 5
}
