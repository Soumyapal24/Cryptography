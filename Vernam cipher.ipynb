{
 "cells": [
  {
   "cell_type": "code",
   "execution_count": 1,
   "id": "db5cc93c",
   "metadata": {},
   "outputs": [
    {
     "name": "stdout",
     "output_type": "stream",
     "text": [
      "Ciphertext: \u001b5\u000f>\n",
      "\n",
      "Decrypted text: HELlO\n"
     ]
    }
   ],
   "source": [
    "def vernam_encrypt(plaintext, key):\n",
    "   \n",
    "    if len(plaintext) != len(key):\n",
    "        raise ValueError(\"Plaintext and key must have the same length\")\n",
    "\n",
    "    ciphertext = \"\"\n",
    "    for i in range(len(plaintext)):\n",
    "        # XOR each character of plaintext with the corresponding key character\n",
    "        ciphertext += chr(ord(plaintext[i]) ^ ord(key[i]))\n",
    "\n",
    "    return ciphertext\n",
    "\n",
    "def vernam_decrypt(ciphertext, key):\n",
    "   \n",
    "    if len(ciphertext) != len(key):\n",
    "        raise ValueError(\"Ciphertext and key must have the same length\")\n",
    "\n",
    "    plaintext = \"\"\n",
    "    for i in range(len(ciphertext)):\n",
    "        # XOR each character of ciphertext with the corresponding key character\n",
    "        plaintext += chr(ord(ciphertext[i]) ^ ord(key[i]))\n",
    "\n",
    "    return plaintext\n",
    "\n",
    "# Example usage:\n",
    "if __name__ == \"__main__\":\n",
    "    plaintext = \"HELlO\"\n",
    "    key = \"SpCRE\"  # Random key (same length as plaintext)\n",
    "    \n",
    "    ciphertext = vernam_encrypt(plaintext, key)\n",
    "    print(\"Ciphertext:\", ciphertext)\n",
    "\n",
    "    decrypted_text = vernam_decrypt(ciphertext, key)\n",
    "    print(\"Decrypted text:\", decrypted_text)"
   ]
  }
 ],
 "metadata": {
  "kernelspec": {
   "display_name": "Python 3 (ipykernel)",
   "language": "python",
   "name": "python3"
  },
  "language_info": {
   "codemirror_mode": {
    "name": "ipython",
    "version": 3
   },
   "file_extension": ".py",
   "mimetype": "text/x-python",
   "name": "python",
   "nbconvert_exporter": "python",
   "pygments_lexer": "ipython3",
   "version": "3.11.4"
  }
 },
 "nbformat": 4,
 "nbformat_minor": 5
}
