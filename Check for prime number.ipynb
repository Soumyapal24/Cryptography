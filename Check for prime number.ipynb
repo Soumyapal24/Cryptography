{
 "cells": [
  {
   "cell_type": "code",
   "execution_count": 1,
   "id": "e0dded6f",
   "metadata": {},
   "outputs": [
    {
     "name": "stdout",
     "output_type": "stream",
     "text": [
      "enter a number:13\n",
      "it is a prime number\n"
     ]
    }
   ],
   "source": [
    "#python function to check if a given integer is prime or not\n",
    "def isprime(num):\n",
    "    if num<=1:\n",
    "        return print(\"neither prime nor not prime\")\n",
    "        \n",
    "    for i in range (2, int(num/2)+1):\n",
    "        \n",
    "        if num % i==0:\n",
    "            print(\"it is not a prime number\")\n",
    "            break\n",
    "    \n",
    "    else:\n",
    "        print(\"it is a prime number\")\n",
    "        \n",
    "\n",
    "n=int(input(\"enter a number:\"))\n",
    "isprime(n)\n"
   ]
  }
 ],
 "metadata": {
  "kernelspec": {
   "display_name": "Python 3 (ipykernel)",
   "language": "python",
   "name": "python3"
  },
  "language_info": {
   "codemirror_mode": {
    "name": "ipython",
    "version": 3
   },
   "file_extension": ".py",
   "mimetype": "text/x-python",
   "name": "python",
   "nbconvert_exporter": "python",
   "pygments_lexer": "ipython3",
   "version": "3.11.4"
  }
 },
 "nbformat": 4,
 "nbformat_minor": 5
}
